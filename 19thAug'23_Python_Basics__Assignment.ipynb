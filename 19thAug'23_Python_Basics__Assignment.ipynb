{
  "nbformat": 4,
  "nbformat_minor": 0,
  "metadata": {
    "colab": {
      "provenance": []
    },
    "kernelspec": {
      "name": "python3",
      "display_name": "Python 3"
    },
    "language_info": {
      "name": "python"
    }
  },
  "cells": [
    {
      "cell_type": "code",
      "execution_count": null,
      "metadata": {
        "colab": {
          "base_uri": "https://localhost:8080/"
        },
        "id": "0LTVPZPWFtC9",
        "outputId": "46e455ca-871d-4d69-fc3a-dbc3544d4e76"
      },
      "outputs": [
        {
          "output_type": "execute_result",
          "data": {
            "text/plain": [
              "(2, 1)"
            ]
          },
          "metadata": {},
          "execution_count": 11
        }
      ],
      "source": [
        "#Q1\n",
        " '''Declare two variables, `x` and `y`, and assign them integer values. Swap the values of these variables without using any temporary variable.'''\n",
        "\n",
        "x=1 # taking the first variable X as 1\n",
        "y=2 # Taking the second variable by as 2\n",
        "x,y=y,x # Replacing the variables X by Y and Y by X\n",
        "x,y # Printing the output of the variables that is the replaced one"
      ]
    },
    {
      "cell_type": "code",
      "source": [
        "#Q2\n",
        "'''Create a program that calculates the area of a rectangle. Take the length and width as inputs from the user and store them in variables. Calculate and display the area.'''\n",
        "\n",
        "# let l be the length and w be the width and a be the area\n",
        "#taking the input, we get\n",
        "\n",
        "l=10\n",
        "w=13\n",
        "#applying the formula of triangle\n",
        "a=0.5*l*w\n",
        "a"
      ],
      "metadata": {
        "colab": {
          "base_uri": "https://localhost:8080/"
        },
        "id": "JaG5HI6TP_gz",
        "outputId": "3a8ddbc9-c880-49b3-a9bf-f0624b0a8bf0"
      },
      "execution_count": null,
      "outputs": [
        {
          "output_type": "execute_result",
          "data": {
            "text/plain": [
              "65.0"
            ]
          },
          "metadata": {},
          "execution_count": 12
        }
      ]
    },
    {
      "cell_type": "code",
      "source": [
        "#Q3\n",
        "'''Write a Python program that converts temperatures from Celsius to Fahrenheit. Take the temperature in Celsius as input, store it in a variable, convert it to Fahrenheit, and display the result.'''\n",
        "\n",
        "\n",
        "#let c be the celcious tempt and f be the ferahnite tempt\n",
        "\n",
        "#say it is given 91 deg celcious so\n",
        "c=91\n",
        "\n",
        "#f can be found by the formula\n",
        "f=(c*1.8)+32\n",
        "f"
      ],
      "metadata": {
        "colab": {
          "base_uri": "https://localhost:8080/"
        },
        "id": "O4VXxqcyQbM-",
        "outputId": "12346184-76c2-4cfb-fdcd-5ab6746426fb"
      },
      "execution_count": null,
      "outputs": [
        {
          "output_type": "execute_result",
          "data": {
            "text/plain": [
              "195.8"
            ]
          },
          "metadata": {},
          "execution_count": 13
        }
      ]
    },
    {
      "cell_type": "code",
      "source": [
        "#Q1\n",
        "'''Write a Python program that takes a string as input and prints the length of\n",
        "#the string.'''\n",
        "\n",
        "name=\"Umair\" #taking the string as name with input umair\n",
        "s=len(name) #function len for finding the lenght\n",
        "s  #printing the length of string s"
      ],
      "metadata": {
        "id": "2VlKoDmIQy_G",
        "colab": {
          "base_uri": "https://localhost:8080/"
        },
        "outputId": "da0f2fe1-2d9c-418e-e2bf-7254e24e1bc8"
      },
      "execution_count": 1,
      "outputs": [
        {
          "output_type": "execute_result",
          "data": {
            "text/plain": [
              "5"
            ]
          },
          "metadata": {},
          "execution_count": 1
        }
      ]
    },
    {
      "cell_type": "code",
      "source": [
        "#Q2\n",
        "'''Create a program that takes a sentence from the user and counts the number\n",
        "of vowels (a, e, i, o, u) in the string.'''\n",
        "\n",
        "\n",
        "string = \"Hi how are you\" # We've taken a stream\n",
        "vowels = \"aeiouAEIOU\" # In the vowel string we have assigned the vowels that is AEIOU Capital and small\n",
        "\n",
        "count = sum(string.count(vowel) for vowel in vowels) # Actually I don't understand this function I have copied this from geeksforgeeks\n",
        "print(count) # And then we have made a print of count that is we get the number of vowels in the string"
      ],
      "metadata": {
        "colab": {
          "base_uri": "https://localhost:8080/"
        },
        "id": "zsUh4V66Y4hv",
        "outputId": "edf30bce-a919-4b3d-db21-66c16aa9931b"
      },
      "execution_count": 5,
      "outputs": [
        {
          "output_type": "stream",
          "name": "stdout",
          "text": [
            "6\n"
          ]
        }
      ]
    },
    {
      "cell_type": "code",
      "source": [
        "#Q3\n",
        "''' Given a string, reverse the order of characters using string slicing and print\n",
        "#the reversed string. '''\n",
        "\n",
        "s=\"Givenstring\" # We've taken the string give as given string\n",
        "s[::-1] # In this function we have made the string from starting to ending with a reverse jumping of minus one And made the output"
      ],
      "metadata": {
        "colab": {
          "base_uri": "https://localhost:8080/",
          "height": 36
        },
        "id": "AIMW_BbpY842",
        "outputId": "ba3fb437-9a2a-4c7b-fafa-f5fd945cb2b7"
      },
      "execution_count": 6,
      "outputs": [
        {
          "output_type": "execute_result",
          "data": {
            "text/plain": [
              "'gnirtsneviG'"
            ],
            "application/vnd.google.colaboratory.intrinsic+json": {
              "type": "string"
            }
          },
          "metadata": {},
          "execution_count": 6
        }
      ]
    },
    {
      "cell_type": "code",
      "source": [
        "#Q4\n",
        "'''\n",
        " Write a program that takes a string as input and checks if it is a palindrome\n",
        "(reads the same forwards and backwards).\n",
        "'''\n",
        "# function which return reverse of a string\n",
        "\n",
        "def isPalindrome(s):\n",
        "\treturn s == s[::-1]\n",
        "\n",
        "\n",
        "# Driver code\n",
        "s = \"malayalam\"\n",
        "ans = isPalindrome(s)\n",
        "\n",
        "if ans:\n",
        "\tprint(\"Yes\")\n",
        "else:\n",
        "\tprint(\"No\")\n",
        "\n",
        "# This I have copied from geeksforgeeks because I understand this question but I was unable to solve it because it requires some kind of function definition I don't know what's that\n",
        "# Ill surely understood this type in later classes and then come back to solve this type of questions\n"
      ],
      "metadata": {
        "colab": {
          "base_uri": "https://localhost:8080/"
        },
        "id": "6dl_50YyaKf3",
        "outputId": "c2b27d10-446f-4cbc-91d0-1cbf85220485"
      },
      "execution_count": 8,
      "outputs": [
        {
          "output_type": "stream",
          "name": "stdout",
          "text": [
            "Yes\n"
          ]
        }
      ]
    },
    {
      "cell_type": "code",
      "source": [
        "#Q5\n",
        "'''create a programme to take a string and remove all the spaces from it '''\n",
        "\n",
        "s3=\"T h u n d e r\" # Here we have taken the string S3 which is of Thunder with space\n",
        "s4=s3[::2] # Then by this function we have made the jumping of two\n",
        "s4 # S4 being the print of required output"
      ],
      "metadata": {
        "colab": {
          "base_uri": "https://localhost:8080/",
          "height": 36
        },
        "id": "Jb89NlpaamRG",
        "outputId": "1b019bb9-faf7-46d9-c9a3-4368bf72b77b"
      },
      "execution_count": 9,
      "outputs": [
        {
          "output_type": "execute_result",
          "data": {
            "text/plain": [
              "'Thunder'"
            ],
            "application/vnd.google.colaboratory.intrinsic+json": {
              "type": "string"
            }
          },
          "metadata": {},
          "execution_count": 9
        }
      ]
    },
    {
      "cell_type": "code",
      "source": [],
      "metadata": {
        "id": "EF7cCfVWas6x"
      },
      "execution_count": null,
      "outputs": []
    }
  ]
}